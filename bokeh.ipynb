{
 "cells": [
  {
   "cell_type": "markdown",
   "metadata": {},
   "source": [
    "\n",
    "# Bar Chart"
   ]
  },
  {
   "cell_type": "code",
   "execution_count": 11,
   "metadata": {},
   "outputs": [],
   "source": [
    "from bokeh.plotting import figure, show\n",
    "from bokeh.models import ColumnDataSource, HoverTool\n",
    "from bokeh.transform import dodge\n",
    "\n",
    "# Sample data\n",
    "data = {\n",
    "    'Category': ['A', 'B', 'C', 'D'],\n",
    "    'Value': [10, 20, 15, 30],\n",
    "    'Target': [25, 15, 20, 25]\n",
    "}\n",
    "\n",
    "# Create a ColumnDataSource from the data\n",
    "source = ColumnDataSource(data=data)\n",
    "\n",
    "# Create a Bokeh figure\n",
    "p = figure(x_range=data['Category'], plot_height=400, title=\"Performance Comparison\",\n",
    "           tools=\"pan,box_zoom,reset\", toolbar_location=\"above\")\n",
    "\n",
    "# Create grouped bar plots with dodge transformation\n",
    "p.vbar(x=dodge('Category', -0.2, range=p.x_range), top='Value', width=0.4, source=source,\n",
    "       color=\"#1F77B4\", legend_label=\"Actual\")\n",
    "\n",
    "p.vbar(x=dodge('Category', 0.2, range=p.x_range), top='Target', width=0.4, source=source,\n",
    "       color=\"#FF7F0E\", legend_label=\"Target\")\n",
    "\n",
    "# Customize the plot\n",
    "p.xgrid.grid_line_color = None\n",
    "p.y_range.start = 0\n",
    "p.legend.title = \"Performance\"\n",
    "p.title.align = \"center\"\n",
    "p.xaxis.axis_label = 'Category'\n",
    "p.yaxis.axis_label = 'Value'\n",
    "\n",
    "# Add hover functionality\n",
    "hover = HoverTool()\n",
    "hover.tooltips = [(\"Category\", \"@Category\"),\n",
    "                  (\"Actual Value\", \"@Value\"),\n",
    "                  (\"Target Value\", \"@Target\")]\n",
    "p.add_tools(hover)\n",
    "\n",
    "# Add additional information to the chart\n",
    "info_text = \"This chart compares actual performance values with target values for different categories.\"\n",
    "p.text(x=[2], y=[35], text=[info_text], text_font_size=\"12pt\", text_color=\"#444444\", text_align=\"center\")\n",
    "\n",
    "# Show the plot\n",
    "show(p)\n"
   ]
  },
  {
   "cell_type": "code",
   "execution_count": null,
   "metadata": {},
   "outputs": [],
   "source": []
  }
 ],
 "metadata": {
  "kernelspec": {
   "display_name": "base",
   "language": "python",
   "name": "python3"
  },
  "language_info": {
   "codemirror_mode": {
    "name": "ipython",
    "version": 3
   },
   "file_extension": ".py",
   "mimetype": "text/x-python",
   "name": "python",
   "nbconvert_exporter": "python",
   "pygments_lexer": "ipython3",
   "version": "3.9.12"
  },
  "orig_nbformat": 4
 },
 "nbformat": 4,
 "nbformat_minor": 2
}
