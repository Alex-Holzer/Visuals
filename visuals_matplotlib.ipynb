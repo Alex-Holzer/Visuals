{
 "cells": [
  {
   "cell_type": "markdown",
   "metadata": {},
   "source": [
    "# Bar Charts"
   ]
  },
  {
   "cell_type": "code",
   "execution_count": null,
   "metadata": {},
   "outputs": [],
   "source": [
    "import pandas as pd\n",
    "import matplotlib.pyplot as plt\n",
    "\n",
    "# Step 1: Creating a pandas DataFrame\n",
    "data = {\n",
    "    'Categories': ['Category A', 'Category B', 'Category C', 'Category D'],\n",
    "    'Values': [25, 40, 15, 30]\n",
    "}\n",
    "\n",
    "df = pd.DataFrame(data)"
   ]
  },
  {
   "cell_type": "code",
   "execution_count": 61,
   "metadata": {},
   "outputs": [],
   "source": [
    "import pandas as pd\n",
    "import matplotlib.pyplot as plt\n",
    "\n",
    "def plot_bar_chart(dataframe: pd.DataFrame, x_column: str, y_column: str, colormap: str = 'viridis',\n",
    "                   title: str = None, horizontal: bool = False, show_mean_median: bool = False) -> None:\n",
    "    \"\"\"\n",
    "    Generate a bar chart using the provided DataFrame.\n",
    "\n",
    "    Parameters:\n",
    "        dataframe (pd.DataFrame): The DataFrame containing the data for the bar chart.\n",
    "        x_column (str): The name of the column to be used for the x-axis of the chart.\n",
    "        y_column (str): The name of the column to be used for the y-axis of the chart.\n",
    "        colormap (str, optional): The name of the colormap to use for coloring the bars.\n",
    "                                  Default is 'viridis'.\n",
    "        title (str, optional): The title for the chart. If None, the chart will have no title.\n",
    "        horizontal (bool, optional): If True, the chart will be displayed as a horizontal bar chart.\n",
    "                                     Default is False (vertical bar chart).\n",
    "        show_mean_median (bool, optional): If True, the mean and median values will be displayed in the top-right\n",
    "                                           corner of the chart with a frame. Default is False.\n",
    "\n",
    "    Returns:\n",
    "        None: The function displays the bar chart directly without returning anything.\n",
    "\n",
    "    Example:\n",
    "        # Example DataFrame\n",
    "        data = {\n",
    "            'Categories': ['Category A', 'Category B', 'Category C', 'Category D'],\n",
    "            'Values': [25, 40, 15, 30]\n",
    "        }\n",
    "\n",
    "        df = pd.DataFrame(data)\n",
    "\n",
    "        # Using the function to create a vertical bar chart without mean and median\n",
    "        plot_bar_chart(dataframe=df, x_column='Categories', y_column='Values', colormap='plasma', title='Vertical Bar Chart')\n",
    "\n",
    "        # Using the function to create a vertical bar chart with mean and median displayed\n",
    "        plot_bar_chart(dataframe=df, x_column='Categories', y_column='Values', colormap='plasma',\n",
    "                       title='Vertical Bar Chart with Mean and Median', show_mean_median=True)\n",
    "\n",
    "        # Using the function to create a horizontal bar chart without mean and median\n",
    "        plot_bar_chart(dataframe=df, x_column='Categories', y_column='Values', colormap='plasma', title='Horizontal Bar Chart', horizontal=True)\n",
    "\n",
    "        # Using the function to create a horizontal bar chart with mean and median displayed\n",
    "        plot_bar_chart(dataframe=df, x_column='Categories', y_column='Values', colormap='plasma',\n",
    "                       title='Horizontal Bar Chart with Mean and Median', horizontal=True, show_mean_median=True)\n",
    "    \"\"\"\n",
    "\n",
    "    # Step 1: Sort the DataFrame by the y_column in descending order\n",
    "    df = dataframe.sort_values(by=y_column, ascending=False)\n",
    "\n",
    "    # Create the bar plot using Matplotlib\n",
    "    plt.figure(figsize=(10, 6))\n",
    "    if horizontal:\n",
    "        plt.barh(df[x_column], df[y_column], color=plt.get_cmap(colormap)(df[y_column] / max(df[y_column])))\n",
    "        plt.xlabel(y_column, labelpad=15, color='#333333', fontsize=14)\n",
    "        plt.ylabel(x_column, labelpad=15, color='#333333', fontsize=14)\n",
    "    else:\n",
    "        plt.bar(df[x_column], df[y_column], color=plt.get_cmap(colormap)(df[y_column] / max(df[y_column])))\n",
    "        plt.xlabel(x_column, labelpad=15, color='#333333', fontsize=14)\n",
    "        plt.ylabel(y_column, labelpad=15, color='#333333', fontsize=14)\n",
    "\n",
    "    # Display mean and median values if show_mean_median is True\n",
    "    if show_mean_median:\n",
    "        # Calculating mean and median\n",
    "        mean_value = df[y_column].mean()\n",
    "        median_value = df[y_column].median()\n",
    "\n",
    "        # Adding mean and median values in the top-right corner of the chart with a frame\n",
    "        text_to_display = f'Mean: {mean_value:.2f}\\nMedian: {median_value:.2f}'\n",
    "        plt.text(0.95, 0.95, text_to_display, transform=plt.gca().transAxes,\n",
    "                 ha='right', va='top', fontsize=12, bbox=dict(facecolor='white', edgecolor='black', boxstyle='round,pad=0.3'))\n",
    "\n",
    "    if title:\n",
    "        plt.title(title, fontweight='bold', fontsize=18, pad=15, color='#333333')\n",
    "\n",
    "    # Remove top, right, and left spines (figure borders)\n",
    "    plt.gca().spines['top'].set_visible(False)\n",
    "    plt.gca().spines['right'].set_visible(False)\n",
    "    plt.gca().spines['left'].set_visible(True)\n",
    "\n",
    "    # Making the bottom spine gray\n",
    "    plt.gca().spines['bottom'].set_color('gray')\n",
    "\n",
    "    # Display the plot\n",
    "    plt.tight_layout()  # Ensure all elements fit within the figure\n",
    "    plt.show()\n"
   ]
  },
  {
   "cell_type": "code",
   "execution_count": 62,
   "metadata": {},
   "outputs": [
    {
     "data": {
      "image/png": "[encoded data removed]",
      "text/plain": [
       "<Figure size 720x432 with 1 Axes>"
      ]
     },
     "metadata": {
      "needs_background": "light"
     },
     "output_type": "display_data"
    }
   ],
   "source": [
    "plot_bar_chart(df, 'Categories', 'Values', title= 'Values in Relationship to Categories', horizontal=True)"
   ]
  },
  {
   "cell_type": "code",
   "execution_count": null,
   "metadata": {},
   "outputs": [],
   "source": []
  }
 ],
 "metadata": {
  "kernelspec": {
   "display_name": "base",
   "language": "python",
   "name": "python3"
  },
  "language_info": {
   "codemirror_mode": {
    "name": "ipython",
    "version": 3
   },
   "file_extension": ".py",
   "mimetype": "text/x-python",
   "name": "python",
   "nbconvert_exporter": "python",
   "pygments_lexer": "ipython3",
   "version": "3.9.12"
  },
  "orig_nbformat": 4
 },
 "nbformat": 4,
 "nbformat_minor": 2
}
