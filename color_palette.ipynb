{
 "cells": [
  {
   "cell_type": "code",
   "execution_count": null,
   "metadata": {},
   "outputs": [],
   "source": [
    "color_pallet_blue = [\"#2167AE\", \"#23366F\", \"#5495CF\", \"#91BFE3\", \"#1FB1E6\"]\n",
    "color_pallet = [\n",
    "    \"#4870C6\",\n",
    "    \"#77A984\",\n",
    "    \"#19BAB6\",\n",
    "    \"#A6E9AB\",\n",
    "    \"#E1EE92\",\n",
    "    \"#FFF773\",\n",
    "    \"#FF7569\",\n",
    "    \"#E18EbA\",\n",
    "    \"#FFC5EA\",\n",
    "    \"#6D6BCF\",\n",
    "]\n",
    "color_white = \"#ECEEEF\""
   ]
  }
 ],
 "metadata": {
  "language_info": {
   "name": "python"
  }
 },
 "nbformat": 4,
 "nbformat_minor": 2
}
